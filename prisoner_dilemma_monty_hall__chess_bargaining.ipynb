{
 "cells": [
  {
   "cell_type": "markdown",
   "id": "683b9b9d",
   "metadata": {},
   "source": [
    "# Prisoner's dilemma"
   ]
  },
  {
   "cell_type": "code",
   "execution_count": 1,
   "id": "af027333",
   "metadata": {},
   "outputs": [
    {
     "name": "stdout",
     "output_type": "stream",
     "text": [
      "Player 1, do you choose to cooperate (C) or defect (D)? C\n",
      "Player 2, do you choose to cooperate (C) or defect (D)? D\n",
      "Player 1 chose C and receives a payoff of 0.\n",
      "Player 2 chose D and receives a payoff of 5.\n"
     ]
    }
   ],
   "source": [
    "# Define the payoff matrix\n",
    "payoff_matrix = {\n",
    "    ('C', 'C'): (3, 3),  # Both cooperate\n",
    "    ('C', 'D'): (0, 5),  # Player 1 cooperates, player 2 defects\n",
    "    ('D', 'C'): (5, 0),  # Player 1 defects, player 2 cooperates\n",
    "    ('D', 'D'): (1, 1),  # Both defect\n",
    "}\n",
    "\n",
    "# Prompt the players to make a decision\n",
    "player_1_choice = input('Player 1, do you choose to cooperate (C) or defect (D)? ')\n",
    "player_2_choice = input('Player 2, do you choose to cooperate (C) or defect (D)? ')\n",
    "\n",
    "# Calculate the payoffs based on the decisions\n",
    "payoff = payoff_matrix[(player_1_choice, player_2_choice)]\n",
    "player_1_payoff, player_2_payoff = payoff\n",
    "\n",
    "# Display the results\n",
    "print(f'Player 1 chose {player_1_choice} and receives a payoff of {player_1_payoff}.')\n",
    "print(f'Player 2 chose {player_2_choice} and receives a payoff of {player_2_payoff}.')\n"
   ]
  },
  {
   "cell_type": "markdown",
   "id": "58e97a1a",
   "metadata": {},
   "source": [
    "# The Monty Hall problem"
   ]
  },
  {
   "cell_type": "code",
   "execution_count": 2,
   "id": "869a7e75",
   "metadata": {},
   "outputs": [
    {
     "name": "stdout",
     "output_type": "stream",
     "text": [
      "Enter the number of simulations: 100\n",
      "Simulations: 100\n",
      "Stick wins: 32 (32.00%)\n",
      "Switch wins: 68 (68.00%)\n"
     ]
    }
   ],
   "source": [
    "import random\n",
    "\n",
    "def monty_hall(simulations):\n",
    "    stick_wins = 0\n",
    "    switch_wins = 0\n",
    "\n",
    "    for _ in range(simulations):\n",
    "        # Place car behind one door and goats behind the others\n",
    "        doors = ['goat', 'goat', 'goat']\n",
    "        car = random.randint(0, 2)\n",
    "        doors[car] = 'car'\n",
    "\n",
    "        # Contestant makes an initial choice\n",
    "        choice = random.randint(0, 2)\n",
    "\n",
    "        # Monty opens one of the other doors with a goat behind it\n",
    "        remaining_doors = [0, 1, 2]\n",
    "        remaining_doors.remove(choice)\n",
    "        if doors[remaining_doors[0]] == 'goat':\n",
    "            monty_opens = remaining_doors[0]\n",
    "        else:\n",
    "            monty_opens = remaining_doors[1]\n",
    "        remaining_doors.remove(monty_opens)\n",
    "\n",
    "        # Calculate results for sticking or switching\n",
    "        if doors[choice] == 'car':\n",
    "            stick_wins += 1\n",
    "        else:\n",
    "            switch_wins += 1\n",
    "\n",
    "    print(f'Simulations: {simulations}')\n",
    "    print(f'Stick wins: {stick_wins} ({(stick_wins / simulations) * 100:.2f}%)')\n",
    "    print(f'Switch wins: {switch_wins} ({(switch_wins / simulations) * 100:.2f}%)')\n",
    "\n",
    "simulations = int(input('Enter the number of simulations: '))\n",
    "monty_hall(simulations)\n"
   ]
  },
  {
   "cell_type": "code",
   "execution_count": 3,
   "id": "7a497e0f",
   "metadata": {},
   "outputs": [
    {
     "name": "stdout",
     "output_type": "stream",
     "text": [
      "King and rook position (center, edge, or corner): center\n",
      "King position (center, edge, or corner): edge\n",
      "King and rook win!\n"
     ]
    }
   ],
   "source": [
    "# Define the payoff matrix\n",
    "payoff_matrix = {\n",
    "    ('center', 'center'): 0,  # Both kings are in the center; draw\n",
    "    ('center', 'edge'): 1,    # King with rook controls center; win\n",
    "    ('center', 'corner'): 1,  # King with rook controls center; win\n",
    "    ('edge', 'center'): -1,   # King with rook is on edge; lose\n",
    "    ('edge', 'edge'): 0,      # Both kings are on edge; draw\n",
    "    ('edge', 'corner'): 1,    # King with rook has opponent in corner; win\n",
    "    ('corner', 'center'): -1, # King with rook is in corner; lose\n",
    "    ('corner', 'edge'): -1,   # King with rook is in corner; lose\n",
    "    ('corner', 'corner'): 0,  # Both kings are in corner; draw\n",
    "}\n",
    "\n",
    "# Prompt the players to make a decision\n",
    "kr_position = input('King and rook position (center, edge, or corner): ').lower()\n",
    "k_position = input('King position (center, edge, or corner): ').lower()\n",
    "\n",
    "# Calculate the payoff based on the positions\n",
    "payoff = payoff_matrix[(kr_position, k_position)]\n",
    "\n",
    "# Display the results\n",
    "if payoff > 0:\n",
    "    print('King and rook win!')\n",
    "elif payoff < 0:\n",
    "    print('King and rook lose.')\n",
    "else:\n",
    "    print('Draw.')\n"
   ]
  },
  {
   "cell_type": "code",
   "execution_count": 4,
   "id": "b9976e29",
   "metadata": {},
   "outputs": [
    {
     "name": "stdout",
     "output_type": "stream",
     "text": [
      "Enter the number of rounds: 5\n",
      "Round 1:\n",
      "Player 1, how much do you offer to Player 2? (remaining: 100) 50\n",
      "Player 2, do you accept the offer of 50.0? (y/n) n\n",
      "Player 2, how much do you offer to Player 1? (remaining: 50.0) 55\n",
      "Player 1, do you accept the offer of 55.0? (y/n) n\n",
      "Round 2:\n",
      "Player 1, how much do you offer to Player 2? (remaining: 50.0) 49\n",
      "Player 2, do you accept the offer of 49.0? (y/n) n\n",
      "Player 2, how much do you offer to Player 1? (remaining: 1.0) 50\n",
      "Player 1, do you accept the offer of 50.0? (y/n) y\n",
      "Player 1 accepts the offer! Player 1 gets 50.0, and Player 2 gets -49.0.\n"
     ]
    }
   ],
   "source": [
    "def bargaining_game(rounds):\n",
    "    offer = 100  # Initial offer\n",
    "    for round in range(1, rounds + 1):\n",
    "        # Player 1 makes an offer\n",
    "        print(f'Round {round}:')\n",
    "        offer_1 = float(input(f'Player 1, how much do you offer to Player 2? (remaining: {offer}) '))\n",
    "        remaining = offer - offer_1\n",
    "\n",
    "        # Player 2 decides whether to accept the offer or not\n",
    "        accept = input(f'Player 2, do you accept the offer of {offer_1}? (y/n) ').lower()\n",
    "        if accept == 'y':\n",
    "            print(f'Player 2 accepts the offer! Player 1 gets {remaining}, and Player 2 gets {offer_1}.')\n",
    "            break\n",
    "        else:\n",
    "            # Player 2 makes a counteroffer\n",
    "            offer_2 = float(input(f'Player 2, how much do you offer to Player 1? (remaining: {remaining}) '))\n",
    "            offer = remaining - offer_2\n",
    "\n",
    "            # Player 1 decides whether to accept the offer or not\n",
    "            accept = input(f'Player 1, do you accept the offer of {offer_2}? (y/n) ').lower()\n",
    "            if accept == 'y':\n",
    "                print(f'Player 1 accepts the offer! Player 1 gets {offer_2}, and Player 2 gets {remaining - offer_2}.')\n",
    "                break\n",
    "            else:\n",
    "                # The offer returns to Player 1 for the next round\n",
    "                offer = remaining\n",
    "\n",
    "    if accept != 'y':\n",
    "        print('No agreement reached!')\n",
    "\n",
    "rounds = int(input('Enter the number of rounds: '))\n",
    "bargaining_game(rounds)\n"
   ]
  },
  {
   "cell_type": "code",
   "execution_count": 5,
   "id": "544258e3",
   "metadata": {},
   "outputs": [
    {
     "name": "stdout",
     "output_type": "stream",
     "text": [
      "Enter the number of rounds: 6\n",
      "Round 1: Market fluctuation! The offer decreases by 6.60, leaving 93.40.\n",
      "Round 2:\n",
      "Player 1, how much do you offer to Player 2? (remaining: 93.40) 80\n",
      "Player 2, do you accept the offer of 80.0? (y/n) n\n",
      "Player 2, how much do you offer to Player 1? (remaining: 13.40) 40\n",
      "Player 1, do you accept the offer of 40.0? (y/n) n\n",
      "Round 3: Market fluctuation! The offer decreases by 0.11, leaving 13.30.\n",
      "Round 4: Market fluctuation! The offer decreases by 6.17, leaving 7.13.\n",
      "Round 5:\n",
      "Player 1, how much do you offer to Player 2? (remaining: 7.13) 30\n",
      "Player 2, do you accept the offer of 30.0? (y/n) y\n",
      "Player 2 accepts the offer! Player 1 gets -22.87, and Player 2 gets 30.00.\n"
     ]
    }
   ],
   "source": [
    "import random\n",
    "\n",
    "def bargaining_game(rounds):\n",
    "    offer = 100  # Initial offer\n",
    "    for round in range(1, rounds + 1):\n",
    "        # Random event that can decrease the total offer\n",
    "        if random.random() < 0.5:\n",
    "            loss = random.uniform(0, offer / 2)\n",
    "            offer -= loss\n",
    "            print(f'Round {round}: Market fluctuation! The offer decreases by {loss:.2f}, leaving {offer:.2f}.')\n",
    "\n",
    "        # Player 1 makes an offer\n",
    "        else:\n",
    "            print(f'Round {round}:')\n",
    "            offer_1 = float(input(f'Player 1, how much do you offer to Player 2? (remaining: {offer:.2f}) '))\n",
    "            remaining = offer - offer_1\n",
    "\n",
    "            # Player 2 decides whether to accept the offer or not\n",
    "            accept = input(f'Player 2, do you accept the offer of {offer_1}? (y/n) ').lower()\n",
    "            if accept == 'y':\n",
    "                print(f'Player 2 accepts the offer! Player 1 gets {remaining:.2f}, and Player 2 gets {offer_1:.2f}.')\n",
    "                break\n",
    "            else:\n",
    "                # Player 2 makes a counteroffer\n",
    "                offer_2 = float(input(f'Player 2, how much do you offer to Player 1? (remaining: {remaining:.2f}) '))\n",
    "                offer = remaining - offer_2\n",
    "\n",
    "                # Player 1 decides whether to accept the offer or not\n",
    "                accept = input(f'Player 1, do you accept the offer of {offer_2}? (y/n) ').lower()\n",
    "                if accept == 'y':\n",
    "                    print(f'Player 1 accepts the offer! Player 1 gets {offer_2:.2f}, and Player 2 gets {remaining - offer_2:.2f}.')\n",
    "                    break\n",
    "                else:\n",
    "                    # The offer returns to Player 1 for the next round\n",
    "                    offer = remaining\n",
    "\n",
    "    if accept != 'y':\n",
    "        print('No agreement reached!')\n",
    "\n",
    "rounds = int(input('Enter the number of rounds: '))\n",
    "bargaining_game(rounds)\n"
   ]
  },
  {
   "cell_type": "code",
   "execution_count": null,
   "id": "7a36b054",
   "metadata": {},
   "outputs": [],
   "source": []
  }
 ],
 "metadata": {
  "kernelspec": {
   "display_name": "Python 3 (ipykernel)",
   "language": "python",
   "name": "python3"
  },
  "language_info": {
   "codemirror_mode": {
    "name": "ipython",
    "version": 3
   },
   "file_extension": ".py",
   "mimetype": "text/x-python",
   "name": "python",
   "nbconvert_exporter": "python",
   "pygments_lexer": "ipython3",
   "version": "3.11.3"
  }
 },
 "nbformat": 4,
 "nbformat_minor": 5
}
